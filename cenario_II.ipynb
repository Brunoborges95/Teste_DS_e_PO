{
 "cells": [
  {
   "cell_type": "markdown",
   "metadata": {},
   "source": [
    "# Teste - Ciência de Dados / Otimização e Pesquisa Operacional (Short Track)"
   ]
  },
  {
   "cell_type": "markdown",
   "metadata": {},
   "source": [
    "## Cenário II\n",
    "\n",
    "O segundo entregável consiste na transformação de dados disponíveis em <a href=\"https://drive.google.com/file/d/1IDCjpDZh5St97jw4K_bAewJ8hf-rax9C/view?usp=sharing\">arquivo Json</a> para o formato de dataframe, algo comum no dia a dia da empresa. Após transformar esse Json em dataframe é possível perceber que a coluna \"item_list\" está como dicionário. Seu gestor pediu dois pontos de atenção nessa tarefa:\n",
    "\n",
    "- Expandir a coluna num mesmo dataframe;\n",
    "- Normalizar os itens dessa coluna de dicionário e dividí-los em dois dataframes separados, seguindo o modelo relacional."
   ]
  },
  {
   "cell_type": "code",
   "execution_count": 1,
   "metadata": {},
   "outputs": [],
   "source": [
    "import json\n",
    "import pandas as pd"
   ]
  },
  {
   "cell_type": "markdown",
   "metadata": {},
   "source": [
    "Vamos carregar o json."
   ]
  },
  {
   "cell_type": "code",
   "execution_count": 2,
   "metadata": {},
   "outputs": [
    {
     "data": {
      "text/plain": [
       "[{'CreateDate': '2021-05-24T20:21:34.79',\n",
       "  'EmissionDate': '2021-05-24T00:00:00',\n",
       "  'Discount': 0.0,\n",
       "  'NFeNumber': 501,\n",
       "  'NFeID': 1,\n",
       "  'ItemList': [{'ProductName': 'Rice', 'Value': 35.55, 'Quantity': 2},\n",
       "   {'ProductName': 'Flour', 'Value': 11.55, 'Quantity': 5},\n",
       "   {'ProductName': 'Bean', 'Value': 27.15, 'Quantity': 7}]},\n",
       " {'CreateDate': '2021-05-24T20:21:34.79',\n",
       "  'EmissionDate': '2021-05-24T00:00:00',\n",
       "  'Discount': 0.0,\n",
       "  'NFeNumber': 502,\n",
       "  'NFeID': 2,\n",
       "  'ItemList': [{'ProductName': 'Tomate', 'Value': 12.25, 'Quantity': 10},\n",
       "   {'ProductName': 'Pasta', 'Value': 7.55, 'Quantity': 5}]},\n",
       " {'CreateDate': '2021-05-24T20:21:34.79',\n",
       "  'EmissionDate': '2021-05-24T00:00:00',\n",
       "  'Discount': 0.0,\n",
       "  'NFeNumber': 503,\n",
       "  'NFeID': 3,\n",
       "  'ItemList': [{'ProductName': 'Beer', 'Value': 9.0, 'Quantity': 6},\n",
       "   {'ProductName': 'French fries', 'Value': 10.99, 'Quantity': 2},\n",
       "   {'ProductName': 'Ice cream', 'Value': 27.15, 'Quantity': 1}]}]"
      ]
     },
     "execution_count": 2,
     "metadata": {},
     "output_type": "execute_result"
    }
   ],
   "source": [
    "f = open('data/data.json')\n",
    "data = json.load(f)\n",
    "data"
   ]
  },
  {
   "cell_type": "markdown",
   "metadata": {},
   "source": [
    "Aqui criamos o dataframe com informações das notas fiscais;"
   ]
  },
  {
   "cell_type": "code",
   "execution_count": 3,
   "metadata": {},
   "outputs": [],
   "source": [
    "nfe_data = []\n",
    "for d in data:\n",
    "    nfe_data.append({\n",
    "        'NFeID': d['NFeID'],\n",
    "        'NFeNumber': d['NFeNumber'],\n",
    "        'CreateDate': d['CreateDate'],\n",
    "        'EmissionDate': d['EmissionDate'],\n",
    "        'Discount': d['Discount']\n",
    "    })\n",
    "nfe_df = pd.DataFrame(nfe_data)\n"
   ]
  },
  {
   "cell_type": "markdown",
   "metadata": {},
   "source": [
    "E aqui criamos o dataframe com informações dos itens das notas fiscais."
   ]
  },
  {
   "cell_type": "code",
   "execution_count": 4,
   "metadata": {},
   "outputs": [],
   "source": [
    "\n",
    "nfe_items_data = []\n",
    "for d in data:\n",
    "    for item in d['ItemList']:\n",
    "        nfe_items_data.append({\n",
    "            'NFeID': d['NFeID'],\n",
    "            'ProductName': item['ProductName'],\n",
    "            'Value': item['Value'],\n",
    "            'Quantity': item['Quantity']\n",
    "        })\n",
    "nfe_items_df = pd.DataFrame(nfe_items_data)"
   ]
  },
  {
   "cell_type": "code",
   "execution_count": 5,
   "metadata": {},
   "outputs": [
    {
     "data": {
      "text/html": [
       "<div>\n",
       "<style scoped>\n",
       "    .dataframe tbody tr th:only-of-type {\n",
       "        vertical-align: middle;\n",
       "    }\n",
       "\n",
       "    .dataframe tbody tr th {\n",
       "        vertical-align: top;\n",
       "    }\n",
       "\n",
       "    .dataframe thead th {\n",
       "        text-align: right;\n",
       "    }\n",
       "</style>\n",
       "<table border=\"1\" class=\"dataframe\">\n",
       "  <thead>\n",
       "    <tr style=\"text-align: right;\">\n",
       "      <th></th>\n",
       "      <th>NFeID</th>\n",
       "      <th>NFeNumber</th>\n",
       "      <th>CreateDate</th>\n",
       "      <th>EmissionDate</th>\n",
       "      <th>Discount</th>\n",
       "    </tr>\n",
       "  </thead>\n",
       "  <tbody>\n",
       "    <tr>\n",
       "      <th>0</th>\n",
       "      <td>1</td>\n",
       "      <td>501</td>\n",
       "      <td>2021-05-24T20:21:34.79</td>\n",
       "      <td>2021-05-24T00:00:00</td>\n",
       "      <td>0.0</td>\n",
       "    </tr>\n",
       "    <tr>\n",
       "      <th>1</th>\n",
       "      <td>2</td>\n",
       "      <td>502</td>\n",
       "      <td>2021-05-24T20:21:34.79</td>\n",
       "      <td>2021-05-24T00:00:00</td>\n",
       "      <td>0.0</td>\n",
       "    </tr>\n",
       "    <tr>\n",
       "      <th>2</th>\n",
       "      <td>3</td>\n",
       "      <td>503</td>\n",
       "      <td>2021-05-24T20:21:34.79</td>\n",
       "      <td>2021-05-24T00:00:00</td>\n",
       "      <td>0.0</td>\n",
       "    </tr>\n",
       "  </tbody>\n",
       "</table>\n",
       "</div>"
      ],
      "text/plain": [
       "   NFeID  NFeNumber              CreateDate         EmissionDate  Discount\n",
       "0      1        501  2021-05-24T20:21:34.79  2021-05-24T00:00:00       0.0\n",
       "1      2        502  2021-05-24T20:21:34.79  2021-05-24T00:00:00       0.0\n",
       "2      3        503  2021-05-24T20:21:34.79  2021-05-24T00:00:00       0.0"
      ]
     },
     "execution_count": 5,
     "metadata": {},
     "output_type": "execute_result"
    }
   ],
   "source": [
    "nfe_df"
   ]
  },
  {
   "cell_type": "code",
   "execution_count": 6,
   "metadata": {},
   "outputs": [
    {
     "data": {
      "text/html": [
       "<div>\n",
       "<style scoped>\n",
       "    .dataframe tbody tr th:only-of-type {\n",
       "        vertical-align: middle;\n",
       "    }\n",
       "\n",
       "    .dataframe tbody tr th {\n",
       "        vertical-align: top;\n",
       "    }\n",
       "\n",
       "    .dataframe thead th {\n",
       "        text-align: right;\n",
       "    }\n",
       "</style>\n",
       "<table border=\"1\" class=\"dataframe\">\n",
       "  <thead>\n",
       "    <tr style=\"text-align: right;\">\n",
       "      <th></th>\n",
       "      <th>NFeID</th>\n",
       "      <th>ProductName</th>\n",
       "      <th>Value</th>\n",
       "      <th>Quantity</th>\n",
       "    </tr>\n",
       "  </thead>\n",
       "  <tbody>\n",
       "    <tr>\n",
       "      <th>0</th>\n",
       "      <td>1</td>\n",
       "      <td>Rice</td>\n",
       "      <td>35.55</td>\n",
       "      <td>2</td>\n",
       "    </tr>\n",
       "    <tr>\n",
       "      <th>1</th>\n",
       "      <td>1</td>\n",
       "      <td>Flour</td>\n",
       "      <td>11.55</td>\n",
       "      <td>5</td>\n",
       "    </tr>\n",
       "    <tr>\n",
       "      <th>2</th>\n",
       "      <td>1</td>\n",
       "      <td>Bean</td>\n",
       "      <td>27.15</td>\n",
       "      <td>7</td>\n",
       "    </tr>\n",
       "    <tr>\n",
       "      <th>3</th>\n",
       "      <td>2</td>\n",
       "      <td>Tomate</td>\n",
       "      <td>12.25</td>\n",
       "      <td>10</td>\n",
       "    </tr>\n",
       "    <tr>\n",
       "      <th>4</th>\n",
       "      <td>2</td>\n",
       "      <td>Pasta</td>\n",
       "      <td>7.55</td>\n",
       "      <td>5</td>\n",
       "    </tr>\n",
       "    <tr>\n",
       "      <th>5</th>\n",
       "      <td>3</td>\n",
       "      <td>Beer</td>\n",
       "      <td>9.00</td>\n",
       "      <td>6</td>\n",
       "    </tr>\n",
       "    <tr>\n",
       "      <th>6</th>\n",
       "      <td>3</td>\n",
       "      <td>French fries</td>\n",
       "      <td>10.99</td>\n",
       "      <td>2</td>\n",
       "    </tr>\n",
       "    <tr>\n",
       "      <th>7</th>\n",
       "      <td>3</td>\n",
       "      <td>Ice cream</td>\n",
       "      <td>27.15</td>\n",
       "      <td>1</td>\n",
       "    </tr>\n",
       "  </tbody>\n",
       "</table>\n",
       "</div>"
      ],
      "text/plain": [
       "   NFeID   ProductName  Value  Quantity\n",
       "0      1          Rice  35.55         2\n",
       "1      1         Flour  11.55         5\n",
       "2      1          Bean  27.15         7\n",
       "3      2        Tomate  12.25        10\n",
       "4      2         Pasta   7.55         5\n",
       "5      3          Beer   9.00         6\n",
       "6      3  French fries  10.99         2\n",
       "7      3     Ice cream  27.15         1"
      ]
     },
     "execution_count": 6,
     "metadata": {},
     "output_type": "execute_result"
    }
   ],
   "source": [
    "nfe_items_df"
   ]
  },
  {
   "cell_type": "code",
   "execution_count": null,
   "metadata": {},
   "outputs": [],
   "source": []
  }
 ],
 "metadata": {
  "kernelspec": {
   "display_name": "base",
   "language": "python",
   "name": "python3"
  },
  "language_info": {
   "codemirror_mode": {
    "name": "ipython",
    "version": 3
   },
   "file_extension": ".py",
   "mimetype": "text/x-python",
   "name": "python",
   "nbconvert_exporter": "python",
   "pygments_lexer": "ipython3",
   "version": "3.11.7"
  }
 },
 "nbformat": 4,
 "nbformat_minor": 2
}
